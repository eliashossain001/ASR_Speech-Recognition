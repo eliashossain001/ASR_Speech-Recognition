{
 "cells": [
  {
   "cell_type": "markdown",
   "id": "cef8d73b",
   "metadata": {},
   "source": [
    "# Import libraries"
   ]
  },
  {
   "cell_type": "code",
   "execution_count": 1,
   "id": "db57614e",
   "metadata": {},
   "outputs": [],
   "source": [
    "import pandas as pd\n",
    "import string\n",
    "import matplotlib.pyplot as plt\n",
    "import re"
   ]
  },
  {
   "cell_type": "code",
   "execution_count": 2,
   "id": "7e1a38a8",
   "metadata": {},
   "outputs": [],
   "source": [
    "# pip install matplotlib"
   ]
  },
  {
   "cell_type": "markdown",
   "id": "26fba1ec",
   "metadata": {},
   "source": [
    "# Load new dataset"
   ]
  },
  {
   "cell_type": "code",
   "execution_count": 3,
   "id": "eab4a1f0",
   "metadata": {},
   "outputs": [
    {
     "data": {
      "text/html": [
       "<div>\n",
       "<style scoped>\n",
       "    .dataframe tbody tr th:only-of-type {\n",
       "        vertical-align: middle;\n",
       "    }\n",
       "\n",
       "    .dataframe tbody tr th {\n",
       "        vertical-align: top;\n",
       "    }\n",
       "\n",
       "    .dataframe thead th {\n",
       "        text-align: right;\n",
       "    }\n",
       "</style>\n",
       "<table border=\"1\" class=\"dataframe\">\n",
       "  <thead>\n",
       "    <tr style=\"text-align: right;\">\n",
       "      <th></th>\n",
       "      <th>Unnamed: 0</th>\n",
       "      <th>audio_path</th>\n",
       "      <th>text</th>\n",
       "    </tr>\n",
       "  </thead>\n",
       "  <tbody>\n",
       "    <tr>\n",
       "      <th>0</th>\n",
       "      <td>0</td>\n",
       "      <td>/home/elias/dataset/UPDS/csv1/01/wav/95092045-...</td>\n",
       "      <td>0\\n0  ঘ্রাণ নিন এটার।</td>\n",
       "    </tr>\n",
       "    <tr>\n",
       "      <th>1</th>\n",
       "      <td>1</td>\n",
       "      <td>/home/elias/dataset/UPDS/csv1/01/wav/db9e9062-...</td>\n",
       "      <td>0\\n0  ভর দুপুরে ত...</td>\n",
       "    </tr>\n",
       "    <tr>\n",
       "      <th>2</th>\n",
       "      <td>2</td>\n",
       "      <td>/home/elias/dataset/UPDS/csv1/01/wav/945045fd-...</td>\n",
       "      <td>...</td>\n",
       "    </tr>\n",
       "    <tr>\n",
       "      <th>3</th>\n",
       "      <td>3</td>\n",
       "      <td>/home/elias/dataset/UPDS/csv1/01/wav/d87f853d-...</td>\n",
       "      <td>0\\n0  এস...</td>\n",
       "    </tr>\n",
       "    <tr>\n",
       "      <th>4</th>\n",
       "      <td>4</td>\n",
       "      <td>/home/elias/dataset/UPDS/csv1/01/wav/83e4fc77-...</td>\n",
       "      <td>0\\n0  কী করলে তুমি এটা?</td>\n",
       "    </tr>\n",
       "  </tbody>\n",
       "</table>\n",
       "</div>"
      ],
      "text/plain": [
       "   Unnamed: 0                                         audio_path  \\\n",
       "0           0  /home/elias/dataset/UPDS/csv1/01/wav/95092045-...   \n",
       "1           1  /home/elias/dataset/UPDS/csv1/01/wav/db9e9062-...   \n",
       "2           2  /home/elias/dataset/UPDS/csv1/01/wav/945045fd-...   \n",
       "3           3  /home/elias/dataset/UPDS/csv1/01/wav/d87f853d-...   \n",
       "4           4  /home/elias/dataset/UPDS/csv1/01/wav/83e4fc77-...   \n",
       "\n",
       "                                                text  \n",
       "0                              0\\n0  ঘ্রাণ নিন এটার।  \n",
       "1                               0\\n0  ভর দুপুরে ত...  \n",
       "2                                                ...  \n",
       "3                                        0\\n0  এস...  \n",
       "4                            0\\n0  কী করলে তুমি এটা?  "
      ]
     },
     "execution_count": 3,
     "metadata": {},
     "output_type": "execute_result"
    }
   ],
   "source": [
    "main_data=pd.read_csv('/home/elias/VoiceCSVData/newdata.csv')\n",
    "\n",
    "main_data.head(5)"
   ]
  },
  {
   "cell_type": "markdown",
   "id": "bbe3041a",
   "metadata": {},
   "source": [
    "Here we can observe that there is an additional column called 'Unnamed:0', which has to be filtered because this property dosen't hold any semantic information."
   ]
  },
  {
   "cell_type": "code",
   "execution_count": 4,
   "id": "992b31cb",
   "metadata": {},
   "outputs": [],
   "source": [
    "main_data.drop(\"Unnamed: 0\",axis=1, inplace= True) #Run this cell for the first time, no need to run it again because it will show error"
   ]
  },
  {
   "cell_type": "code",
   "execution_count": 5,
   "id": "e13f7796",
   "metadata": {},
   "outputs": [
    {
     "data": {
      "text/html": [
       "<div>\n",
       "<style scoped>\n",
       "    .dataframe tbody tr th:only-of-type {\n",
       "        vertical-align: middle;\n",
       "    }\n",
       "\n",
       "    .dataframe tbody tr th {\n",
       "        vertical-align: top;\n",
       "    }\n",
       "\n",
       "    .dataframe thead th {\n",
       "        text-align: right;\n",
       "    }\n",
       "</style>\n",
       "<table border=\"1\" class=\"dataframe\">\n",
       "  <thead>\n",
       "    <tr style=\"text-align: right;\">\n",
       "      <th></th>\n",
       "      <th>audio_path</th>\n",
       "      <th>text</th>\n",
       "    </tr>\n",
       "  </thead>\n",
       "  <tbody>\n",
       "    <tr>\n",
       "      <th>0</th>\n",
       "      <td>/home/elias/dataset/UPDS/csv1/01/wav/95092045-...</td>\n",
       "      <td>0\\n0  ঘ্রাণ নিন এটার।</td>\n",
       "    </tr>\n",
       "    <tr>\n",
       "      <th>1</th>\n",
       "      <td>/home/elias/dataset/UPDS/csv1/01/wav/db9e9062-...</td>\n",
       "      <td>0\\n0  ভর দুপুরে ত...</td>\n",
       "    </tr>\n",
       "    <tr>\n",
       "      <th>2</th>\n",
       "      <td>/home/elias/dataset/UPDS/csv1/01/wav/945045fd-...</td>\n",
       "      <td>...</td>\n",
       "    </tr>\n",
       "    <tr>\n",
       "      <th>3</th>\n",
       "      <td>/home/elias/dataset/UPDS/csv1/01/wav/d87f853d-...</td>\n",
       "      <td>0\\n0  এস...</td>\n",
       "    </tr>\n",
       "    <tr>\n",
       "      <th>4</th>\n",
       "      <td>/home/elias/dataset/UPDS/csv1/01/wav/83e4fc77-...</td>\n",
       "      <td>0\\n0  কী করলে তুমি এটা?</td>\n",
       "    </tr>\n",
       "    <tr>\n",
       "      <th>5</th>\n",
       "      <td>/home/elias/dataset/UPDS/csv1/01/wav/d96323a0-...</td>\n",
       "      <td>0\\n0  নিরবতায় এইখানকার...</td>\n",
       "    </tr>\n",
       "    <tr>\n",
       "      <th>6</th>\n",
       "      <td>/home/elias/dataset/UPDS/csv1/01/wav/8fade046-...</td>\n",
       "      <td>...</td>\n",
       "    </tr>\n",
       "    <tr>\n",
       "      <th>7</th>\n",
       "      <td>/home/elias/dataset/UPDS/csv1/01/wav/1bde1500-...</td>\n",
       "      <td>0\\n0  ...</td>\n",
       "    </tr>\n",
       "    <tr>\n",
       "      <th>8</th>\n",
       "      <td>/home/elias/dataset/UPDS/csv1/01/wav/e279d51b-...</td>\n",
       "      <td>...</td>\n",
       "    </tr>\n",
       "    <tr>\n",
       "      <th>9</th>\n",
       "      <td>/home/elias/dataset/UPDS/csv1/01/wav/72ab4352-...</td>\n",
       "      <td>...</td>\n",
       "    </tr>\n",
       "  </tbody>\n",
       "</table>\n",
       "</div>"
      ],
      "text/plain": [
       "                                          audio_path  \\\n",
       "0  /home/elias/dataset/UPDS/csv1/01/wav/95092045-...   \n",
       "1  /home/elias/dataset/UPDS/csv1/01/wav/db9e9062-...   \n",
       "2  /home/elias/dataset/UPDS/csv1/01/wav/945045fd-...   \n",
       "3  /home/elias/dataset/UPDS/csv1/01/wav/d87f853d-...   \n",
       "4  /home/elias/dataset/UPDS/csv1/01/wav/83e4fc77-...   \n",
       "5  /home/elias/dataset/UPDS/csv1/01/wav/d96323a0-...   \n",
       "6  /home/elias/dataset/UPDS/csv1/01/wav/8fade046-...   \n",
       "7  /home/elias/dataset/UPDS/csv1/01/wav/1bde1500-...   \n",
       "8  /home/elias/dataset/UPDS/csv1/01/wav/e279d51b-...   \n",
       "9  /home/elias/dataset/UPDS/csv1/01/wav/72ab4352-...   \n",
       "\n",
       "                                                text  \n",
       "0                              0\\n0  ঘ্রাণ নিন এটার।  \n",
       "1                               0\\n0  ভর দুপুরে ত...  \n",
       "2                                                ...  \n",
       "3                                        0\\n0  এস...  \n",
       "4                            0\\n0  কী করলে তুমি এটা?  \n",
       "5                          0\\n0  নিরবতায় এইখানকার...  \n",
       "6                                                ...  \n",
       "7                                          0\\n0  ...  \n",
       "8                                                ...  \n",
       "9                                                ...  "
      ]
     },
     "execution_count": 5,
     "metadata": {},
     "output_type": "execute_result"
    }
   ],
   "source": [
    "main_data.head(10)"
   ]
  },
  {
   "cell_type": "code",
   "execution_count": 6,
   "id": "3cbc0a82",
   "metadata": {},
   "outputs": [
    {
     "data": {
      "text/plain": [
       "0                                     0\\n0  ঘ্রাণ নিন এটার।\n",
       "1                                      0\\n0  ভর দুপুরে ত...\n",
       "2                                                       ...\n",
       "3                                               0\\n0  এস...\n",
       "4                                   0\\n0  কী করলে তুমি এটা?\n",
       "                                ...                        \n",
       "211776                           0\\n0  মাঝি ফিরেও তাকালো...\n",
       "211777                           0\\n0  মাঝি ফিরেও তাকালো...\n",
       "211778                           0\\n0  মাঝি ফিরেও তাকালো...\n",
       "211779                           0\\n0  মাঝি ফিরেও তাকালো...\n",
       "211780                           0\\n0  মাঝি ফিরেও তাকালো...\n",
       "Name: text, Length: 211781, dtype: object"
      ]
     },
     "execution_count": 6,
     "metadata": {},
     "output_type": "execute_result"
    }
   ],
   "source": [
    "main_data['text']"
   ]
  },
  {
   "cell_type": "markdown",
   "id": "70f8e4ee",
   "metadata": {},
   "source": [
    "Setup is ready. Now, the next step is text preprocessing. Text preprocessing involves transforming text into a clean and consistent format that can then be fed into a model for further analysis and learning."
   ]
  },
  {
   "cell_type": "markdown",
   "id": "9cabd46f",
   "metadata": {},
   "source": [
    "### Steps of the text preprocessing"
   ]
  },
  {
   "cell_type": "markdown",
   "id": "ff9e84f5",
   "metadata": {},
   "source": [
    "In order to process the text, we shall focus on the following aspects:\n",
    "\n",
    "1. Punctuation\n",
    "\n",
    "    1.1 Finding punctuations \n",
    "    1.2 Removing punctuations\n",
    "\n",
    "2. Finding and removing unwanted values\n",
    "    2.1 Finding unwanted values\n",
    "    2.2 Removing unwanted values\n",
    "    2.3 Filter leading space"
   ]
  },
  {
   "cell_type": "markdown",
   "id": "ec93501c",
   "metadata": {},
   "source": [
    "## 1. Punctuations"
   ]
  },
  {
   "cell_type": "markdown",
   "id": "43c51a50",
   "metadata": {},
   "source": [
    "### 1.1 Finding punctuations"
   ]
  },
  {
   "cell_type": "code",
   "execution_count": 7,
   "id": "42b5eed5",
   "metadata": {},
   "outputs": [],
   "source": [
    "def check_find_punctuations(text):\n",
    "    \n",
    "    result = re.findall(r'[!\"\\$%&\\'()*+,\\-.\\/:;=#@?\\[\\\\\\]^_`{|}~]*', \n",
    "                        text)\n",
    "    \n",
    "    string= \"\".join(result)\n",
    "    \n",
    "    return list(string)"
   ]
  },
  {
   "cell_type": "code",
   "execution_count": 8,
   "id": "1d1314eb",
   "metadata": {},
   "outputs": [
    {
     "data": {
      "text/html": [
       "<div>\n",
       "<style scoped>\n",
       "    .dataframe tbody tr th:only-of-type {\n",
       "        vertical-align: middle;\n",
       "    }\n",
       "\n",
       "    .dataframe tbody tr th {\n",
       "        vertical-align: top;\n",
       "    }\n",
       "\n",
       "    .dataframe thead th {\n",
       "        text-align: right;\n",
       "    }\n",
       "</style>\n",
       "<table border=\"1\" class=\"dataframe\">\n",
       "  <thead>\n",
       "    <tr style=\"text-align: right;\">\n",
       "      <th></th>\n",
       "      <th>audio_path</th>\n",
       "      <th>text</th>\n",
       "      <th>punctuation_used</th>\n",
       "    </tr>\n",
       "  </thead>\n",
       "  <tbody>\n",
       "    <tr>\n",
       "      <th>0</th>\n",
       "      <td>/home/elias/dataset/UPDS/csv1/01/wav/95092045-...</td>\n",
       "      <td>0\\n0  ঘ্রাণ নিন এটার।</td>\n",
       "      <td>[]</td>\n",
       "    </tr>\n",
       "    <tr>\n",
       "      <th>1</th>\n",
       "      <td>/home/elias/dataset/UPDS/csv1/01/wav/db9e9062-...</td>\n",
       "      <td>0\\n0  ভর দুপুরে ত...</td>\n",
       "      <td>[]</td>\n",
       "    </tr>\n",
       "    <tr>\n",
       "      <th>2</th>\n",
       "      <td>/home/elias/dataset/UPDS/csv1/01/wav/945045fd-...</td>\n",
       "      <td>...</td>\n",
       "      <td>[., ., .]</td>\n",
       "    </tr>\n",
       "    <tr>\n",
       "      <th>3</th>\n",
       "      <td>/home/elias/dataset/UPDS/csv1/01/wav/d87f853d-...</td>\n",
       "      <td>0\\n0  এস...</td>\n",
       "      <td>[]</td>\n",
       "    </tr>\n",
       "    <tr>\n",
       "      <th>4</th>\n",
       "      <td>/home/elias/dataset/UPDS/csv1/01/wav/83e4fc77-...</td>\n",
       "      <td>0\\n0  কী করলে তুমি এটা?</td>\n",
       "      <td>[?]</td>\n",
       "    </tr>\n",
       "    <tr>\n",
       "      <th>...</th>\n",
       "      <td>...</td>\n",
       "      <td>...</td>\n",
       "      <td>...</td>\n",
       "    </tr>\n",
       "    <tr>\n",
       "      <th>211776</th>\n",
       "      <td>/home/elias/dataset/UPDS/csv1/03/wav/d34d0821-...</td>\n",
       "      <td>0\\n0  মাঝি ফিরেও তাকালো...</td>\n",
       "      <td>[]</td>\n",
       "    </tr>\n",
       "    <tr>\n",
       "      <th>211777</th>\n",
       "      <td>/home/elias/dataset/UPDS/csv1/03/wav/b9dfa396-...</td>\n",
       "      <td>0\\n0  মাঝি ফিরেও তাকালো...</td>\n",
       "      <td>[]</td>\n",
       "    </tr>\n",
       "    <tr>\n",
       "      <th>211778</th>\n",
       "      <td>/home/elias/dataset/UPDS/csv1/03/wav/3701a8b5-...</td>\n",
       "      <td>0\\n0  মাঝি ফিরেও তাকালো...</td>\n",
       "      <td>[]</td>\n",
       "    </tr>\n",
       "    <tr>\n",
       "      <th>211779</th>\n",
       "      <td>/home/elias/dataset/UPDS/csv1/03/wav/c82ee0e0-...</td>\n",
       "      <td>0\\n0  মাঝি ফিরেও তাকালো...</td>\n",
       "      <td>[]</td>\n",
       "    </tr>\n",
       "    <tr>\n",
       "      <th>211780</th>\n",
       "      <td>/home/elias/dataset/UPDS/csv1/03/wav/b8e76507-...</td>\n",
       "      <td>0\\n0  মাঝি ফিরেও তাকালো...</td>\n",
       "      <td>[]</td>\n",
       "    </tr>\n",
       "  </tbody>\n",
       "</table>\n",
       "<p>211781 rows × 3 columns</p>\n",
       "</div>"
      ],
      "text/plain": [
       "                                               audio_path  \\\n",
       "0       /home/elias/dataset/UPDS/csv1/01/wav/95092045-...   \n",
       "1       /home/elias/dataset/UPDS/csv1/01/wav/db9e9062-...   \n",
       "2       /home/elias/dataset/UPDS/csv1/01/wav/945045fd-...   \n",
       "3       /home/elias/dataset/UPDS/csv1/01/wav/d87f853d-...   \n",
       "4       /home/elias/dataset/UPDS/csv1/01/wav/83e4fc77-...   \n",
       "...                                                   ...   \n",
       "211776  /home/elias/dataset/UPDS/csv1/03/wav/d34d0821-...   \n",
       "211777  /home/elias/dataset/UPDS/csv1/03/wav/b9dfa396-...   \n",
       "211778  /home/elias/dataset/UPDS/csv1/03/wav/3701a8b5-...   \n",
       "211779  /home/elias/dataset/UPDS/csv1/03/wav/c82ee0e0-...   \n",
       "211780  /home/elias/dataset/UPDS/csv1/03/wav/b8e76507-...   \n",
       "\n",
       "                                                     text punctuation_used  \n",
       "0                                   0\\n0  ঘ্রাণ নিন এটার।               []  \n",
       "1                                    0\\n0  ভর দুপুরে ত...               []  \n",
       "2                                                     ...        [., ., .]  \n",
       "3                                             0\\n0  এস...               []  \n",
       "4                                 0\\n0  কী করলে তুমি এটা?              [?]  \n",
       "...                                                   ...              ...  \n",
       "211776                         0\\n0  মাঝি ফিরেও তাকালো...               []  \n",
       "211777                         0\\n0  মাঝি ফিরেও তাকালো...               []  \n",
       "211778                         0\\n0  মাঝি ফিরেও তাকালো...               []  \n",
       "211779                         0\\n0  মাঝি ফিরেও তাকালো...               []  \n",
       "211780                         0\\n0  মাঝি ফিরেও তাকালো...               []  \n",
       "\n",
       "[211781 rows x 3 columns]"
      ]
     },
     "execution_count": 8,
     "metadata": {},
     "output_type": "execute_result"
    }
   ],
   "source": [
    "main_data['punctuation_used'] = main_data['text'].apply(lambda x : check_find_punctuations(x))\n",
    "\n",
    "main_data"
   ]
  },
  {
   "cell_type": "markdown",
   "id": "a4abdf0d",
   "metadata": {},
   "source": [
    "Observation: We have filtered the possible punctuations based on the dataset in the \"punctuation_used\" columns, e.g., [], ?,.. "
   ]
  },
  {
   "cell_type": "markdown",
   "id": "291aca5e",
   "metadata": {},
   "source": [
    "### 1.2 Removing punctuations"
   ]
  },
  {
   "cell_type": "code",
   "execution_count": 9,
   "id": "f3102b53",
   "metadata": {},
   "outputs": [],
   "source": [
    "def remove_punct(text):\n",
    "    text  = \"\".join([char for char in text if char not in string.punctuation])\n",
    "    text = re.sub('[!\"\\$%&\\'()*+,\\-.\\/:;=#@?\\[\\\\\\]^_`{|}~]*', '', text)\n",
    "    return text"
   ]
  },
  {
   "cell_type": "markdown",
   "id": "b89b2b2e",
   "metadata": {},
   "source": [
    "We have created a function for finding possible punctuations using regex library. Let's create merge the function with our dataset and adding a new column which is clear than the previous column."
   ]
  },
  {
   "cell_type": "code",
   "execution_count": 10,
   "id": "bee5dce7",
   "metadata": {},
   "outputs": [
    {
     "data": {
      "text/html": [
       "<div>\n",
       "<style scoped>\n",
       "    .dataframe tbody tr th:only-of-type {\n",
       "        vertical-align: middle;\n",
       "    }\n",
       "\n",
       "    .dataframe tbody tr th {\n",
       "        vertical-align: top;\n",
       "    }\n",
       "\n",
       "    .dataframe thead th {\n",
       "        text-align: right;\n",
       "    }\n",
       "</style>\n",
       "<table border=\"1\" class=\"dataframe\">\n",
       "  <thead>\n",
       "    <tr style=\"text-align: right;\">\n",
       "      <th></th>\n",
       "      <th>audio_path</th>\n",
       "      <th>text</th>\n",
       "      <th>punctuation_used</th>\n",
       "      <th>processing_col</th>\n",
       "    </tr>\n",
       "  </thead>\n",
       "  <tbody>\n",
       "    <tr>\n",
       "      <th>0</th>\n",
       "      <td>/home/elias/dataset/UPDS/csv1/01/wav/95092045-...</td>\n",
       "      <td>0\\n0  ঘ্রাণ নিন এটার।</td>\n",
       "      <td>[]</td>\n",
       "      <td>0\\n0  ঘ্রাণ নিন এটার।</td>\n",
       "    </tr>\n",
       "    <tr>\n",
       "      <th>1</th>\n",
       "      <td>/home/elias/dataset/UPDS/csv1/01/wav/db9e9062-...</td>\n",
       "      <td>0\\n0  ভর দুপুরে ত...</td>\n",
       "      <td>[]</td>\n",
       "      <td>0\\n0  ভর দুপুরে ত...</td>\n",
       "    </tr>\n",
       "    <tr>\n",
       "      <th>2</th>\n",
       "      <td>/home/elias/dataset/UPDS/csv1/01/wav/945045fd-...</td>\n",
       "      <td>...</td>\n",
       "      <td>[., ., .]</td>\n",
       "      <td>...</td>\n",
       "    </tr>\n",
       "    <tr>\n",
       "      <th>3</th>\n",
       "      <td>/home/elias/dataset/UPDS/csv1/01/wav/d87f853d-...</td>\n",
       "      <td>0\\n0  এস...</td>\n",
       "      <td>[]</td>\n",
       "      <td>0\\n0  এস...</td>\n",
       "    </tr>\n",
       "    <tr>\n",
       "      <th>4</th>\n",
       "      <td>/home/elias/dataset/UPDS/csv1/01/wav/83e4fc77-...</td>\n",
       "      <td>0\\n0  কী করলে তুমি এটা?</td>\n",
       "      <td>[?]</td>\n",
       "      <td>0\\n0  কী করলে তুমি এটা</td>\n",
       "    </tr>\n",
       "    <tr>\n",
       "      <th>5</th>\n",
       "      <td>/home/elias/dataset/UPDS/csv1/01/wav/d96323a0-...</td>\n",
       "      <td>0\\n0  নিরবতায় এইখানকার...</td>\n",
       "      <td>[]</td>\n",
       "      <td>0\\n0  নিরবতায় এইখানকার...</td>\n",
       "    </tr>\n",
       "    <tr>\n",
       "      <th>6</th>\n",
       "      <td>/home/elias/dataset/UPDS/csv1/01/wav/8fade046-...</td>\n",
       "      <td>...</td>\n",
       "      <td>[., ., .]</td>\n",
       "      <td>...</td>\n",
       "    </tr>\n",
       "    <tr>\n",
       "      <th>7</th>\n",
       "      <td>/home/elias/dataset/UPDS/csv1/01/wav/1bde1500-...</td>\n",
       "      <td>0\\n0  ...</td>\n",
       "      <td>[]</td>\n",
       "      <td>0\\n0  ...</td>\n",
       "    </tr>\n",
       "    <tr>\n",
       "      <th>8</th>\n",
       "      <td>/home/elias/dataset/UPDS/csv1/01/wav/e279d51b-...</td>\n",
       "      <td>...</td>\n",
       "      <td>[., ., .]</td>\n",
       "      <td>...</td>\n",
       "    </tr>\n",
       "    <tr>\n",
       "      <th>9</th>\n",
       "      <td>/home/elias/dataset/UPDS/csv1/01/wav/72ab4352-...</td>\n",
       "      <td>...</td>\n",
       "      <td>[!]</td>\n",
       "      <td>...</td>\n",
       "    </tr>\n",
       "  </tbody>\n",
       "</table>\n",
       "</div>"
      ],
      "text/plain": [
       "                                          audio_path  \\\n",
       "0  /home/elias/dataset/UPDS/csv1/01/wav/95092045-...   \n",
       "1  /home/elias/dataset/UPDS/csv1/01/wav/db9e9062-...   \n",
       "2  /home/elias/dataset/UPDS/csv1/01/wav/945045fd-...   \n",
       "3  /home/elias/dataset/UPDS/csv1/01/wav/d87f853d-...   \n",
       "4  /home/elias/dataset/UPDS/csv1/01/wav/83e4fc77-...   \n",
       "5  /home/elias/dataset/UPDS/csv1/01/wav/d96323a0-...   \n",
       "6  /home/elias/dataset/UPDS/csv1/01/wav/8fade046-...   \n",
       "7  /home/elias/dataset/UPDS/csv1/01/wav/1bde1500-...   \n",
       "8  /home/elias/dataset/UPDS/csv1/01/wav/e279d51b-...   \n",
       "9  /home/elias/dataset/UPDS/csv1/01/wav/72ab4352-...   \n",
       "\n",
       "                                                text punctuation_used  \\\n",
       "0                              0\\n0  ঘ্রাণ নিন এটার।               []   \n",
       "1                               0\\n0  ভর দুপুরে ত...               []   \n",
       "2                                                ...        [., ., .]   \n",
       "3                                        0\\n0  এস...               []   \n",
       "4                            0\\n0  কী করলে তুমি এটা?              [?]   \n",
       "5                          0\\n0  নিরবতায় এইখানকার...               []   \n",
       "6                                                ...        [., ., .]   \n",
       "7                                          0\\n0  ...               []   \n",
       "8                                                ...        [., ., .]   \n",
       "9                                                ...              [!]   \n",
       "\n",
       "                                      processing_col  \n",
       "0                              0\\n0  ঘ্রাণ নিন এটার।  \n",
       "1                               0\\n0  ভর দুপুরে ত...  \n",
       "2                                                ...  \n",
       "3                                        0\\n0  এস...  \n",
       "4                             0\\n0  কী করলে তুমি এটা  \n",
       "5                          0\\n0  নিরবতায় এইখানকার...  \n",
       "6                                                ...  \n",
       "7                                          0\\n0  ...  \n",
       "8                                                ...  \n",
       "9                                                ...  "
      ]
     },
     "execution_count": 10,
     "metadata": {},
     "output_type": "execute_result"
    }
   ],
   "source": [
    "main_data['processing_col'] = main_data['text'].apply(lambda x: remove_punct(x))\n",
    "main_data.head(10)"
   ]
  },
  {
   "cell_type": "markdown",
   "id": "cdfa76a6",
   "metadata": {},
   "source": [
    "## 2. Finding and removing unwated values with string"
   ]
  },
  {
   "cell_type": "markdown",
   "id": "07e9e1d0",
   "metadata": {},
   "source": [
    "### 2.1 Finding unwanted values"
   ]
  },
  {
   "cell_type": "code",
   "execution_count": 11,
   "id": "56becccd",
   "metadata": {},
   "outputs": [
    {
     "data": {
      "text/html": [
       "<div>\n",
       "<style scoped>\n",
       "    .dataframe tbody tr th:only-of-type {\n",
       "        vertical-align: middle;\n",
       "    }\n",
       "\n",
       "    .dataframe tbody tr th {\n",
       "        vertical-align: top;\n",
       "    }\n",
       "\n",
       "    .dataframe thead th {\n",
       "        text-align: right;\n",
       "    }\n",
       "</style>\n",
       "<table border=\"1\" class=\"dataframe\">\n",
       "  <thead>\n",
       "    <tr style=\"text-align: right;\">\n",
       "      <th></th>\n",
       "      <th>audio_path</th>\n",
       "      <th>text</th>\n",
       "      <th>punctuation_used</th>\n",
       "      <th>processing_col</th>\n",
       "    </tr>\n",
       "  </thead>\n",
       "  <tbody>\n",
       "    <tr>\n",
       "      <th>0</th>\n",
       "      <td>/home/elias/dataset/UPDS/csv1/01/wav/95092045-...</td>\n",
       "      <td>0\\n0  ঘ্রাণ নিন এটার।</td>\n",
       "      <td>[]</td>\n",
       "      <td>0\\n0  ঘ্রাণ নিন এটার।</td>\n",
       "    </tr>\n",
       "    <tr>\n",
       "      <th>1</th>\n",
       "      <td>/home/elias/dataset/UPDS/csv1/01/wav/db9e9062-...</td>\n",
       "      <td>0\\n0  ভর দুপুরে ত...</td>\n",
       "      <td>[]</td>\n",
       "      <td>0\\n0  ভর দুপুরে ত...</td>\n",
       "    </tr>\n",
       "    <tr>\n",
       "      <th>2</th>\n",
       "      <td>/home/elias/dataset/UPDS/csv1/01/wav/945045fd-...</td>\n",
       "      <td>...</td>\n",
       "      <td>[., ., .]</td>\n",
       "      <td>...</td>\n",
       "    </tr>\n",
       "    <tr>\n",
       "      <th>3</th>\n",
       "      <td>/home/elias/dataset/UPDS/csv1/01/wav/d87f853d-...</td>\n",
       "      <td>0\\n0  এস...</td>\n",
       "      <td>[]</td>\n",
       "      <td>0\\n0  এস...</td>\n",
       "    </tr>\n",
       "    <tr>\n",
       "      <th>4</th>\n",
       "      <td>/home/elias/dataset/UPDS/csv1/01/wav/83e4fc77-...</td>\n",
       "      <td>0\\n0  কী করলে তুমি এটা?</td>\n",
       "      <td>[?]</td>\n",
       "      <td>0\\n0  কী করলে তুমি এটা</td>\n",
       "    </tr>\n",
       "  </tbody>\n",
       "</table>\n",
       "</div>"
      ],
      "text/plain": [
       "                                          audio_path  \\\n",
       "0  /home/elias/dataset/UPDS/csv1/01/wav/95092045-...   \n",
       "1  /home/elias/dataset/UPDS/csv1/01/wav/db9e9062-...   \n",
       "2  /home/elias/dataset/UPDS/csv1/01/wav/945045fd-...   \n",
       "3  /home/elias/dataset/UPDS/csv1/01/wav/d87f853d-...   \n",
       "4  /home/elias/dataset/UPDS/csv1/01/wav/83e4fc77-...   \n",
       "\n",
       "                                                text punctuation_used  \\\n",
       "0                              0\\n0  ঘ্রাণ নিন এটার।               []   \n",
       "1                               0\\n0  ভর দুপুরে ত...               []   \n",
       "2                                                ...        [., ., .]   \n",
       "3                                        0\\n0  এস...               []   \n",
       "4                            0\\n0  কী করলে তুমি এটা?              [?]   \n",
       "\n",
       "                                      processing_col  \n",
       "0                              0\\n0  ঘ্রাণ নিন এটার।  \n",
       "1                               0\\n0  ভর দুপুরে ত...  \n",
       "2                                                ...  \n",
       "3                                        0\\n0  এস...  \n",
       "4                             0\\n0  কী করলে তুমি এটা  "
      ]
     },
     "execution_count": 11,
     "metadata": {},
     "output_type": "execute_result"
    }
   ],
   "source": [
    "main_data.head(5)"
   ]
  },
  {
   "cell_type": "markdown",
   "id": "3a088550",
   "metadata": {},
   "source": [
    "Taking a closer look at the \"text\" column, we can observe that there are unwanted values such as 0\\n0, in general, these garbage values creates many problems in the downstream NLP tasks, so these have to be filtered out. "
   ]
  },
  {
   "cell_type": "markdown",
   "id": "f5536fe0",
   "metadata": {},
   "source": [
    "### 2.2 Removing unwanted values from the clean text"
   ]
  },
  {
   "cell_type": "code",
   "execution_count": 12,
   "id": "772ca600",
   "metadata": {},
   "outputs": [],
   "source": [
    "main_data['processing_col']= main_data['processing_col'].str.replace('0\\n0', '', regex= True)"
   ]
  },
  {
   "cell_type": "code",
   "execution_count": 13,
   "id": "f50d19ee",
   "metadata": {},
   "outputs": [
    {
     "data": {
      "text/html": [
       "<div>\n",
       "<style scoped>\n",
       "    .dataframe tbody tr th:only-of-type {\n",
       "        vertical-align: middle;\n",
       "    }\n",
       "\n",
       "    .dataframe tbody tr th {\n",
       "        vertical-align: top;\n",
       "    }\n",
       "\n",
       "    .dataframe thead th {\n",
       "        text-align: right;\n",
       "    }\n",
       "</style>\n",
       "<table border=\"1\" class=\"dataframe\">\n",
       "  <thead>\n",
       "    <tr style=\"text-align: right;\">\n",
       "      <th></th>\n",
       "      <th>audio_path</th>\n",
       "      <th>text</th>\n",
       "      <th>punctuation_used</th>\n",
       "      <th>processing_col</th>\n",
       "    </tr>\n",
       "  </thead>\n",
       "  <tbody>\n",
       "    <tr>\n",
       "      <th>0</th>\n",
       "      <td>/home/elias/dataset/UPDS/csv1/01/wav/95092045-...</td>\n",
       "      <td>0\\n0  ঘ্রাণ নিন এটার।</td>\n",
       "      <td>[]</td>\n",
       "      <td>ঘ্রাণ নিন এটার।</td>\n",
       "    </tr>\n",
       "    <tr>\n",
       "      <th>1</th>\n",
       "      <td>/home/elias/dataset/UPDS/csv1/01/wav/db9e9062-...</td>\n",
       "      <td>0\\n0  ভর দুপুরে ত...</td>\n",
       "      <td>[]</td>\n",
       "      <td>ভর দুপুরে তার ক...</td>\n",
       "    </tr>\n",
       "    <tr>\n",
       "      <th>2</th>\n",
       "      <td>/home/elias/dataset/UPDS/csv1/01/wav/945045fd-...</td>\n",
       "      <td>...</td>\n",
       "      <td>[., ., .]</td>\n",
       "      <td>...</td>\n",
       "    </tr>\n",
       "    <tr>\n",
       "      <th>3</th>\n",
       "      <td>/home/elias/dataset/UPDS/csv1/01/wav/d87f853d-...</td>\n",
       "      <td>0\\n0  এস...</td>\n",
       "      <td>[]</td>\n",
       "      <td>এসবের ...</td>\n",
       "    </tr>\n",
       "    <tr>\n",
       "      <th>4</th>\n",
       "      <td>/home/elias/dataset/UPDS/csv1/01/wav/83e4fc77-...</td>\n",
       "      <td>0\\n0  কী করলে তুমি এটা?</td>\n",
       "      <td>[?]</td>\n",
       "      <td>কী করলে তুমি এটা</td>\n",
       "    </tr>\n",
       "    <tr>\n",
       "      <th>5</th>\n",
       "      <td>/home/elias/dataset/UPDS/csv1/01/wav/d96323a0-...</td>\n",
       "      <td>0\\n0  নিরবতায় এইখানকার...</td>\n",
       "      <td>[]</td>\n",
       "      <td>নিরবতায় এইখানকার ধর্ম।</td>\n",
       "    </tr>\n",
       "    <tr>\n",
       "      <th>6</th>\n",
       "      <td>/home/elias/dataset/UPDS/csv1/01/wav/8fade046-...</td>\n",
       "      <td>...</td>\n",
       "      <td>[., ., .]</td>\n",
       "      <td>...</td>\n",
       "    </tr>\n",
       "    <tr>\n",
       "      <th>7</th>\n",
       "      <td>/home/elias/dataset/UPDS/csv1/01/wav/1bde1500-...</td>\n",
       "      <td>0\\n0  ...</td>\n",
       "      <td>[]</td>\n",
       "      <td>রপ্ত...</td>\n",
       "    </tr>\n",
       "    <tr>\n",
       "      <th>8</th>\n",
       "      <td>/home/elias/dataset/UPDS/csv1/01/wav/e279d51b-...</td>\n",
       "      <td>...</td>\n",
       "      <td>[., ., .]</td>\n",
       "      <td>...</td>\n",
       "    </tr>\n",
       "    <tr>\n",
       "      <th>9</th>\n",
       "      <td>/home/elias/dataset/UPDS/csv1/01/wav/72ab4352-...</td>\n",
       "      <td>...</td>\n",
       "      <td>[!]</td>\n",
       "      <td>...</td>\n",
       "    </tr>\n",
       "  </tbody>\n",
       "</table>\n",
       "</div>"
      ],
      "text/plain": [
       "                                          audio_path  \\\n",
       "0  /home/elias/dataset/UPDS/csv1/01/wav/95092045-...   \n",
       "1  /home/elias/dataset/UPDS/csv1/01/wav/db9e9062-...   \n",
       "2  /home/elias/dataset/UPDS/csv1/01/wav/945045fd-...   \n",
       "3  /home/elias/dataset/UPDS/csv1/01/wav/d87f853d-...   \n",
       "4  /home/elias/dataset/UPDS/csv1/01/wav/83e4fc77-...   \n",
       "5  /home/elias/dataset/UPDS/csv1/01/wav/d96323a0-...   \n",
       "6  /home/elias/dataset/UPDS/csv1/01/wav/8fade046-...   \n",
       "7  /home/elias/dataset/UPDS/csv1/01/wav/1bde1500-...   \n",
       "8  /home/elias/dataset/UPDS/csv1/01/wav/e279d51b-...   \n",
       "9  /home/elias/dataset/UPDS/csv1/01/wav/72ab4352-...   \n",
       "\n",
       "                                                text punctuation_used  \\\n",
       "0                              0\\n0  ঘ্রাণ নিন এটার।               []   \n",
       "1                               0\\n0  ভর দুপুরে ত...               []   \n",
       "2                                                ...        [., ., .]   \n",
       "3                                        0\\n0  এস...               []   \n",
       "4                            0\\n0  কী করলে তুমি এটা?              [?]   \n",
       "5                          0\\n0  নিরবতায় এইখানকার...               []   \n",
       "6                                                ...        [., ., .]   \n",
       "7                                          0\\n0  ...               []   \n",
       "8                                                ...        [., ., .]   \n",
       "9                                                ...              [!]   \n",
       "\n",
       "                                      processing_col  \n",
       "0                                    ঘ্রাণ নিন এটার।  \n",
       "1                                 ভর দুপুরে তার ক...  \n",
       "2                                                ...  \n",
       "3                                          এসবের ...  \n",
       "4                                   কী করলে তুমি এটা  \n",
       "5                             নিরবতায় এইখানকার ধর্ম।  \n",
       "6                                                ...  \n",
       "7                                            রপ্ত...  \n",
       "8                                                ...  \n",
       "9                                                ...  "
      ]
     },
     "execution_count": 13,
     "metadata": {},
     "output_type": "execute_result"
    }
   ],
   "source": [
    "main_data.head(10)"
   ]
  },
  {
   "cell_type": "markdown",
   "id": "83e761e7",
   "metadata": {},
   "source": [
    "We have successfully removed the /n0 values from our string (see, text_v1 column). Here, we have filtered the unwanted values such as 0\\n0 with the help of regex library. The regular expressions library provides a class that represents regular expressions, which are a kind of mini-language used to perform pattern matching within strings. Almost all operations with regexes can be characterized by operating on several of the following objects: Target sequence."
   ]
  },
  {
   "cell_type": "markdown",
   "id": "3f1527be",
   "metadata": {},
   "source": [
    "### 2.3 Filter the leading space"
   ]
  },
  {
   "cell_type": "code",
   "execution_count": 14,
   "id": "671dd845",
   "metadata": {},
   "outputs": [],
   "source": [
    "# main_data['text_v1'].str.replace(' ', '')"
   ]
  },
  {
   "cell_type": "code",
   "execution_count": 15,
   "id": "4996df58",
   "metadata": {},
   "outputs": [
    {
     "data": {
      "text/html": [
       "<div>\n",
       "<style scoped>\n",
       "    .dataframe tbody tr th:only-of-type {\n",
       "        vertical-align: middle;\n",
       "    }\n",
       "\n",
       "    .dataframe tbody tr th {\n",
       "        vertical-align: top;\n",
       "    }\n",
       "\n",
       "    .dataframe thead th {\n",
       "        text-align: right;\n",
       "    }\n",
       "</style>\n",
       "<table border=\"1\" class=\"dataframe\">\n",
       "  <thead>\n",
       "    <tr style=\"text-align: right;\">\n",
       "      <th></th>\n",
       "      <th>audio_path</th>\n",
       "      <th>text</th>\n",
       "      <th>punctuation_used</th>\n",
       "      <th>processing_col</th>\n",
       "    </tr>\n",
       "  </thead>\n",
       "  <tbody>\n",
       "    <tr>\n",
       "      <th>0</th>\n",
       "      <td>/home/elias/dataset/UPDS/csv1/01/wav/95092045-...</td>\n",
       "      <td>0\\n0  ঘ্রাণ নিন এটার।</td>\n",
       "      <td>[]</td>\n",
       "      <td>ঘ্রাণ নিন এটার।</td>\n",
       "    </tr>\n",
       "    <tr>\n",
       "      <th>1</th>\n",
       "      <td>/home/elias/dataset/UPDS/csv1/01/wav/db9e9062-...</td>\n",
       "      <td>0\\n0  ভর দুপুরে ত...</td>\n",
       "      <td>[]</td>\n",
       "      <td>ভর দুপুরে তার ক...</td>\n",
       "    </tr>\n",
       "    <tr>\n",
       "      <th>2</th>\n",
       "      <td>/home/elias/dataset/UPDS/csv1/01/wav/945045fd-...</td>\n",
       "      <td>...</td>\n",
       "      <td>[., ., .]</td>\n",
       "      <td>...</td>\n",
       "    </tr>\n",
       "    <tr>\n",
       "      <th>3</th>\n",
       "      <td>/home/elias/dataset/UPDS/csv1/01/wav/d87f853d-...</td>\n",
       "      <td>0\\n0  এস...</td>\n",
       "      <td>[]</td>\n",
       "      <td>এসবের ...</td>\n",
       "    </tr>\n",
       "    <tr>\n",
       "      <th>4</th>\n",
       "      <td>/home/elias/dataset/UPDS/csv1/01/wav/83e4fc77-...</td>\n",
       "      <td>0\\n0  কী করলে তুমি এটা?</td>\n",
       "      <td>[?]</td>\n",
       "      <td>কী করলে তুমি এটা</td>\n",
       "    </tr>\n",
       "  </tbody>\n",
       "</table>\n",
       "</div>"
      ],
      "text/plain": [
       "                                          audio_path  \\\n",
       "0  /home/elias/dataset/UPDS/csv1/01/wav/95092045-...   \n",
       "1  /home/elias/dataset/UPDS/csv1/01/wav/db9e9062-...   \n",
       "2  /home/elias/dataset/UPDS/csv1/01/wav/945045fd-...   \n",
       "3  /home/elias/dataset/UPDS/csv1/01/wav/d87f853d-...   \n",
       "4  /home/elias/dataset/UPDS/csv1/01/wav/83e4fc77-...   \n",
       "\n",
       "                                                text punctuation_used  \\\n",
       "0                              0\\n0  ঘ্রাণ নিন এটার।               []   \n",
       "1                               0\\n0  ভর দুপুরে ত...               []   \n",
       "2                                                ...        [., ., .]   \n",
       "3                                        0\\n0  এস...               []   \n",
       "4                            0\\n0  কী করলে তুমি এটা?              [?]   \n",
       "\n",
       "                                      processing_col  \n",
       "0                                    ঘ্রাণ নিন এটার।  \n",
       "1                                 ভর দুপুরে তার ক...  \n",
       "2                                                ...  \n",
       "3                                          এসবের ...  \n",
       "4                                   কী করলে তুমি এটা  "
      ]
     },
     "execution_count": 15,
     "metadata": {},
     "output_type": "execute_result"
    }
   ],
   "source": [
    "main_data.head(5)"
   ]
  },
  {
   "cell_type": "code",
   "execution_count": 16,
   "id": "962b22b3",
   "metadata": {},
   "outputs": [],
   "source": [
    "main_data.drop(['text', 'punctuation_used'], axis=1, inplace= True)"
   ]
  },
  {
   "cell_type": "markdown",
   "id": "d8c3997d",
   "metadata": {},
   "source": [
    "### Dataframe data left/right alignment"
   ]
  },
  {
   "cell_type": "code",
   "execution_count": 17,
   "id": "3291702f",
   "metadata": {},
   "outputs": [],
   "source": [
    "from pandas import DataFrame\n",
    "\n",
    "\n",
    "def left_align(main_data: DataFrame):\n",
    "    left_aligned_df = main_data.style.set_properties(**{'text-align': 'left'})\n",
    "    left_aligned_df = left_aligned_df.set_table_styles(\n",
    "        [dict(selector='th', props=[('text-align', 'left')])]\n",
    "    )\n",
    "    return left_aligned_df"
   ]
  },
  {
   "cell_type": "code",
   "execution_count": 18,
   "id": "a6a34675",
   "metadata": {},
   "outputs": [],
   "source": [
    "new_df=left_align(main_data)"
   ]
  },
  {
   "cell_type": "markdown",
   "id": "acb2f743",
   "metadata": {},
   "source": [
    "#### Experiment"
   ]
  },
  {
   "cell_type": "code",
   "execution_count": 19,
   "id": "285b7552",
   "metadata": {},
   "outputs": [],
   "source": [
    "# pip install eng_to_ipa"
   ]
  },
  {
   "cell_type": "code",
   "execution_count": 20,
   "id": "a077d269",
   "metadata": {},
   "outputs": [
    {
     "data": {
      "text/plain": [
       "'hɛˈloʊ giks'"
      ]
     },
     "execution_count": 20,
     "metadata": {},
     "output_type": "execute_result"
    }
   ],
   "source": [
    "import eng_to_ipa as p\n",
    "\n",
    "\n",
    "p.convert(\"Hello Geeks\")\n"
   ]
  },
  {
   "cell_type": "code",
   "execution_count": 21,
   "id": "da43f289",
   "metadata": {},
   "outputs": [
    {
     "data": {
      "text/plain": [
       "'                                কোথাও পাখিটিকে দেখতে পাই না।'"
      ]
     },
     "execution_count": 21,
     "metadata": {},
     "output_type": "execute_result"
    }
   ],
   "source": [
    "main_data['processing_col'][70]"
   ]
  },
  {
   "cell_type": "code",
   "execution_count": 22,
   "id": "f6d7508f",
   "metadata": {},
   "outputs": [
    {
     "data": {
      "text/plain": [
       "'কোথাও* পাখিটিকে* দেখতে* পাই* না।*'"
      ]
     },
     "execution_count": 22,
     "metadata": {},
     "output_type": "execute_result"
    }
   ],
   "source": [
    "p.convert(\"কোথাও পাখিটিকে দেখতে পাই না।\")"
   ]
  },
  {
   "cell_type": "code",
   "execution_count": 23,
   "id": "f0061557",
   "metadata": {},
   "outputs": [],
   "source": [
    "# pip install epitran"
   ]
  },
  {
   "cell_type": "code",
   "execution_count": 30,
   "id": "b785ab02",
   "metadata": {},
   "outputs": [],
   "source": [
    "import epitran\n",
    "epi = epitran.Epitran('ben-Beng') "
   ]
  },
  {
   "cell_type": "code",
   "execution_count": 33,
   "id": "fb6b318d",
   "metadata": {},
   "outputs": [
    {
     "data": {
      "text/plain": [
       "'ɕekʰɔ has̪in̪a'"
      ]
     },
     "execution_count": 33,
     "metadata": {},
     "output_type": "execute_result"
    }
   ],
   "source": [
    "epi.transliterate('শেখ হাসিনা')"
   ]
  },
  {
   "cell_type": "markdown",
   "id": "40af9503",
   "metadata": {},
   "source": [
    "### Let's save the dataset to the directory"
   ]
  },
  {
   "cell_type": "code",
   "execution_count": 28,
   "id": "95d9a055",
   "metadata": {},
   "outputs": [],
   "source": [
    "# new_df.to_excel('/home/elias/VoiceCSVData/finaldata.xlsx')"
   ]
  },
  {
   "cell_type": "code",
   "execution_count": null,
   "id": "4b4ec343",
   "metadata": {},
   "outputs": [],
   "source": []
  }
 ],
 "metadata": {
  "kernelspec": {
   "display_name": "Python 3 (ipykernel)",
   "language": "python",
   "name": "python3"
  },
  "language_info": {
   "codemirror_mode": {
    "name": "ipython",
    "version": 3
   },
   "file_extension": ".py",
   "mimetype": "text/x-python",
   "name": "python",
   "nbconvert_exporter": "python",
   "pygments_lexer": "ipython3",
   "version": "3.9.12"
  }
 },
 "nbformat": 4,
 "nbformat_minor": 5
}
