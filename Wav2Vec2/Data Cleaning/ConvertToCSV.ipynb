{
 "cells": [
  {
   "cell_type": "markdown",
   "id": "fecebce0",
   "metadata": {},
   "source": [
    "##### For the first time, pandas and tqdm libraries have to be installed"
   ]
  },
  {
   "cell_type": "code",
   "execution_count": 3,
   "id": "b72a5345",
   "metadata": {},
   "outputs": [],
   "source": [
    "# pip install pandas"
   ]
  },
  {
   "cell_type": "code",
   "execution_count": 4,
   "id": "e8c0abb3",
   "metadata": {},
   "outputs": [],
   "source": [
    "# pip install tqdm"
   ]
  },
  {
   "cell_type": "markdown",
   "id": "11184c7f",
   "metadata": {},
   "source": [
    "#### Import necessary libraries"
   ]
  },
  {
   "cell_type": "code",
   "execution_count": 5,
   "id": "e5afd119",
   "metadata": {},
   "outputs": [],
   "source": [
    "import tqdm\n",
    "import pathlib\n",
    "\n",
    "import glob\n",
    "import os \n",
    "import pandas as pd"
   ]
  },
  {
   "cell_type": "markdown",
   "id": "6a9633a7",
   "metadata": {},
   "source": [
    "#### Now, we shall organize the CSV file in terms of trainable data"
   ]
  },
  {
   "cell_type": "code",
   "execution_count": 6,
   "id": "ac27b80a",
   "metadata": {},
   "outputs": [
    {
     "name": "stdout",
     "output_type": "stream",
     "text": [
      "['/home/elias/dataset/UPDS/csv1/01/', '/home/elias/dataset/UPDS/csv1/02/', '/home/elias/dataset/UPDS/csv1/03/']\n"
     ]
    }
   ],
   "source": [
    "wav_file_path =[]\n",
    "text_file =[]\n",
    "\n",
    "root_path = \"\"\n",
    "folders =['/home/elias/dataset/UPDS/csv1/01/','/home/elias/dataset/UPDS/csv1/02/','/home/elias/dataset/UPDS/csv1/03/']\n",
    "print(folders)\n",
    "\n",
    "for folder in folders:\n",
    "    for filename in glob.glob(folder+'**/*'):\n",
    "    \n",
    "        if filename.endswith(\".wav\"):\n",
    "            wav_file_path.append(filename)\n",
    "        elif filename.endswith(\".txt\"):\n",
    "            \n",
    "            text_file.append(filename)\n",
    "            \n",
    "    "
   ]
  },
  {
   "cell_type": "markdown",
   "id": "f66e4335",
   "metadata": {},
   "source": [
    "#### Make a dictionary to map the directory path of audio and text file"
   ]
  },
  {
   "cell_type": "code",
   "execution_count": 7,
   "id": "35b8660f",
   "metadata": {},
   "outputs": [
    {
     "data": {
      "text/html": [
       "<div>\n",
       "<style scoped>\n",
       "    .dataframe tbody tr th:only-of-type {\n",
       "        vertical-align: middle;\n",
       "    }\n",
       "\n",
       "    .dataframe tbody tr th {\n",
       "        vertical-align: top;\n",
       "    }\n",
       "\n",
       "    .dataframe thead th {\n",
       "        text-align: right;\n",
       "    }\n",
       "</style>\n",
       "<table border=\"1\" class=\"dataframe\">\n",
       "  <thead>\n",
       "    <tr style=\"text-align: right;\">\n",
       "      <th></th>\n",
       "      <th>audio_path</th>\n",
       "      <th>text</th>\n",
       "    </tr>\n",
       "  </thead>\n",
       "  <tbody>\n",
       "    <tr>\n",
       "      <th>0</th>\n",
       "      <td>/home/elias/dataset/UPDS/csv1/01/wav/95092045-...</td>\n",
       "      <td>/home/elias/dataset/UPDS/csv1/01/text/95092045...</td>\n",
       "    </tr>\n",
       "    <tr>\n",
       "      <th>1</th>\n",
       "      <td>/home/elias/dataset/UPDS/csv1/01/wav/db9e9062-...</td>\n",
       "      <td>/home/elias/dataset/UPDS/csv1/01/text/db9e9062...</td>\n",
       "    </tr>\n",
       "    <tr>\n",
       "      <th>2</th>\n",
       "      <td>/home/elias/dataset/UPDS/csv1/01/wav/945045fd-...</td>\n",
       "      <td>/home/elias/dataset/UPDS/csv1/01/text/945045fd...</td>\n",
       "    </tr>\n",
       "    <tr>\n",
       "      <th>3</th>\n",
       "      <td>/home/elias/dataset/UPDS/csv1/01/wav/d87f853d-...</td>\n",
       "      <td>/home/elias/dataset/UPDS/csv1/01/text/d87f853d...</td>\n",
       "    </tr>\n",
       "    <tr>\n",
       "      <th>4</th>\n",
       "      <td>/home/elias/dataset/UPDS/csv1/01/wav/83e4fc77-...</td>\n",
       "      <td>/home/elias/dataset/UPDS/csv1/01/text/83e4fc77...</td>\n",
       "    </tr>\n",
       "  </tbody>\n",
       "</table>\n",
       "</div>"
      ],
      "text/plain": [
       "                                          audio_path  \\\n",
       "0  /home/elias/dataset/UPDS/csv1/01/wav/95092045-...   \n",
       "1  /home/elias/dataset/UPDS/csv1/01/wav/db9e9062-...   \n",
       "2  /home/elias/dataset/UPDS/csv1/01/wav/945045fd-...   \n",
       "3  /home/elias/dataset/UPDS/csv1/01/wav/d87f853d-...   \n",
       "4  /home/elias/dataset/UPDS/csv1/01/wav/83e4fc77-...   \n",
       "\n",
       "                                                text  \n",
       "0  /home/elias/dataset/UPDS/csv1/01/text/95092045...  \n",
       "1  /home/elias/dataset/UPDS/csv1/01/text/db9e9062...  \n",
       "2  /home/elias/dataset/UPDS/csv1/01/text/945045fd...  \n",
       "3  /home/elias/dataset/UPDS/csv1/01/text/d87f853d...  \n",
       "4  /home/elias/dataset/UPDS/csv1/01/text/83e4fc77...  "
      ]
     },
     "execution_count": 7,
     "metadata": {},
     "output_type": "execute_result"
    }
   ],
   "source": [
    "dict ={\"audio_path\":wav_file_path,\"text\":text_file }\n",
    "\n",
    "final_data =pd.DataFrame(dict)\n",
    "\n",
    "final_data.head(5)\n",
    "# final_data.to_csv(\"/home/elias/VoiceCSVData\")"
   ]
  },
  {
   "cell_type": "markdown",
   "id": "e073248b",
   "metadata": {},
   "source": [
    "#### Save to CSV format"
   ]
  },
  {
   "cell_type": "code",
   "execution_count": 8,
   "id": "2294ac63",
   "metadata": {},
   "outputs": [],
   "source": [
    "# final_data.to_csv(\"/home/elias/VoiceCSVData/cleandata.csv\")"
   ]
  },
  {
   "cell_type": "code",
   "execution_count": 10,
   "id": "92772a7b",
   "metadata": {},
   "outputs": [],
   "source": [
    "import csv"
   ]
  },
  {
   "cell_type": "code",
   "execution_count": 11,
   "id": "93e69f2e",
   "metadata": {},
   "outputs": [],
   "source": [
    "final_data['text']  = [pd.read_csv(text,header = None, delimiter=\"\\t\",quoting = csv.QUOTE_NONE,encoding='utf-8') for text in final_data['text']]\n",
    "\n",
    "#quoting=csv.QUOTE_NONE,"
   ]
  },
  {
   "cell_type": "code",
   "execution_count": 12,
   "id": "14ab62a4",
   "metadata": {},
   "outputs": [
    {
     "data": {
      "text/html": [
       "<div>\n",
       "<style scoped>\n",
       "    .dataframe tbody tr th:only-of-type {\n",
       "        vertical-align: middle;\n",
       "    }\n",
       "\n",
       "    .dataframe tbody tr th {\n",
       "        vertical-align: top;\n",
       "    }\n",
       "\n",
       "    .dataframe thead th {\n",
       "        text-align: right;\n",
       "    }\n",
       "</style>\n",
       "<table border=\"1\" class=\"dataframe\">\n",
       "  <thead>\n",
       "    <tr style=\"text-align: right;\">\n",
       "      <th></th>\n",
       "      <th>audio_path</th>\n",
       "      <th>text</th>\n",
       "    </tr>\n",
       "  </thead>\n",
       "  <tbody>\n",
       "    <tr>\n",
       "      <th>0</th>\n",
       "      <td>/home/elias/dataset/UPDS/csv1/01/wav/95092045-...</td>\n",
       "      <td>0\n",
       "0  ঘ্রাণ নিন এটার।</td>\n",
       "    </tr>\n",
       "    <tr>\n",
       "      <th>1</th>\n",
       "      <td>/home/elias/dataset/UPDS/csv1/01/wav/db9e9062-...</td>\n",
       "      <td>0\n",
       "0  ভর দুপুরে তা...</td>\n",
       "    </tr>\n",
       "    <tr>\n",
       "      <th>2</th>\n",
       "      <td>/home/elias/dataset/UPDS/csv1/01/wav/945045fd-...</td>\n",
       "      <td>...</td>\n",
       "    </tr>\n",
       "    <tr>\n",
       "      <th>3</th>\n",
       "      <td>/home/elias/dataset/UPDS/csv1/01/wav/d87f853d-...</td>\n",
       "      <td>0\n",
       "0  এসব...</td>\n",
       "    </tr>\n",
       "    <tr>\n",
       "      <th>4</th>\n",
       "      <td>/home/elias/dataset/UPDS/csv1/01/wav/83e4fc77-...</td>\n",
       "      <td>0\n",
       "0  কী করলে তুমি এটা?</td>\n",
       "    </tr>\n",
       "  </tbody>\n",
       "</table>\n",
       "</div>"
      ],
      "text/plain": [
       "                                          audio_path  \\\n",
       "0  /home/elias/dataset/UPDS/csv1/01/wav/95092045-...   \n",
       "1  /home/elias/dataset/UPDS/csv1/01/wav/db9e9062-...   \n",
       "2  /home/elias/dataset/UPDS/csv1/01/wav/945045fd-...   \n",
       "3  /home/elias/dataset/UPDS/csv1/01/wav/d87f853d-...   \n",
       "4  /home/elias/dataset/UPDS/csv1/01/wav/83e4fc77-...   \n",
       "\n",
       "                                                text  \n",
       "0                               0\n",
       "0  ঘ্রাণ নিন এটার।  \n",
       "1                               0\n",
       "0  ভর দুপুরে তা...  \n",
       "2                                                ...  \n",
       "3                                        0\n",
       "0  এসব...  \n",
       "4                             0\n",
       "0  কী করলে তুমি এটা?  "
      ]
     },
     "execution_count": 12,
     "metadata": {},
     "output_type": "execute_result"
    }
   ],
   "source": [
    "final_data.head()"
   ]
  },
  {
   "cell_type": "code",
   "execution_count": 13,
   "id": "243364d9",
   "metadata": {},
   "outputs": [],
   "source": [
    "final_data.to_csv(\"/home/elias/VoiceCSVData/newdata.csv\")"
   ]
  },
  {
   "cell_type": "code",
   "execution_count": null,
   "id": "8db953ea",
   "metadata": {},
   "outputs": [],
   "source": []
  }
 ],
 "metadata": {
  "kernelspec": {
   "display_name": "Python 3 (ipykernel)",
   "language": "python",
   "name": "python3"
  },
  "language_info": {
   "codemirror_mode": {
    "name": "ipython",
    "version": 3
   },
   "file_extension": ".py",
   "mimetype": "text/x-python",
   "name": "python",
   "nbconvert_exporter": "python",
   "pygments_lexer": "ipython3",
   "version": "3.9.12"
  }
 },
 "nbformat": 4,
 "nbformat_minor": 5
}
