{
 "cells": [
  {
   "cell_type": "code",
   "execution_count": 1,
   "id": "46490511",
   "metadata": {},
   "outputs": [],
   "source": [
    "import pandas as pd"
   ]
  },
  {
   "cell_type": "code",
   "execution_count": 2,
   "id": "f621d614",
   "metadata": {},
   "outputs": [],
   "source": [
    "df= pd.read_csv('/home/elias/VoiceCSVData/cleandata.csv')"
   ]
  },
  {
   "cell_type": "code",
   "execution_count": 3,
   "id": "db53771a",
   "metadata": {},
   "outputs": [
    {
     "data": {
      "text/html": [
       "<div>\n",
       "<style scoped>\n",
       "    .dataframe tbody tr th:only-of-type {\n",
       "        vertical-align: middle;\n",
       "    }\n",
       "\n",
       "    .dataframe tbody tr th {\n",
       "        vertical-align: top;\n",
       "    }\n",
       "\n",
       "    .dataframe thead th {\n",
       "        text-align: right;\n",
       "    }\n",
       "</style>\n",
       "<table border=\"1\" class=\"dataframe\">\n",
       "  <thead>\n",
       "    <tr style=\"text-align: right;\">\n",
       "      <th></th>\n",
       "      <th>Unnamed: 0</th>\n",
       "      <th>audio_path</th>\n",
       "      <th>text</th>\n",
       "    </tr>\n",
       "  </thead>\n",
       "  <tbody>\n",
       "    <tr>\n",
       "      <th>0</th>\n",
       "      <td>0</td>\n",
       "      <td>/home/elias/dataset/UPDS/csv1/01/wav/95092045-...</td>\n",
       "      <td>/home/elias/dataset/UPDS/csv1/01/text/95092045...</td>\n",
       "    </tr>\n",
       "    <tr>\n",
       "      <th>1</th>\n",
       "      <td>1</td>\n",
       "      <td>/home/elias/dataset/UPDS/csv1/01/wav/db9e9062-...</td>\n",
       "      <td>/home/elias/dataset/UPDS/csv1/01/text/db9e9062...</td>\n",
       "    </tr>\n",
       "    <tr>\n",
       "      <th>2</th>\n",
       "      <td>2</td>\n",
       "      <td>/home/elias/dataset/UPDS/csv1/01/wav/945045fd-...</td>\n",
       "      <td>/home/elias/dataset/UPDS/csv1/01/text/945045fd...</td>\n",
       "    </tr>\n",
       "    <tr>\n",
       "      <th>3</th>\n",
       "      <td>3</td>\n",
       "      <td>/home/elias/dataset/UPDS/csv1/01/wav/d87f853d-...</td>\n",
       "      <td>/home/elias/dataset/UPDS/csv1/01/text/d87f853d...</td>\n",
       "    </tr>\n",
       "    <tr>\n",
       "      <th>4</th>\n",
       "      <td>4</td>\n",
       "      <td>/home/elias/dataset/UPDS/csv1/01/wav/83e4fc77-...</td>\n",
       "      <td>/home/elias/dataset/UPDS/csv1/01/text/83e4fc77...</td>\n",
       "    </tr>\n",
       "  </tbody>\n",
       "</table>\n",
       "</div>"
      ],
      "text/plain": [
       "   Unnamed: 0                                         audio_path  \\\n",
       "0           0  /home/elias/dataset/UPDS/csv1/01/wav/95092045-...   \n",
       "1           1  /home/elias/dataset/UPDS/csv1/01/wav/db9e9062-...   \n",
       "2           2  /home/elias/dataset/UPDS/csv1/01/wav/945045fd-...   \n",
       "3           3  /home/elias/dataset/UPDS/csv1/01/wav/d87f853d-...   \n",
       "4           4  /home/elias/dataset/UPDS/csv1/01/wav/83e4fc77-...   \n",
       "\n",
       "                                                text  \n",
       "0  /home/elias/dataset/UPDS/csv1/01/text/95092045...  \n",
       "1  /home/elias/dataset/UPDS/csv1/01/text/db9e9062...  \n",
       "2  /home/elias/dataset/UPDS/csv1/01/text/945045fd...  \n",
       "3  /home/elias/dataset/UPDS/csv1/01/text/d87f853d...  \n",
       "4  /home/elias/dataset/UPDS/csv1/01/text/83e4fc77...  "
      ]
     },
     "execution_count": 3,
     "metadata": {},
     "output_type": "execute_result"
    }
   ],
   "source": [
    "df.head()"
   ]
  },
  {
   "cell_type": "code",
   "execution_count": null,
   "id": "390ceff5",
   "metadata": {},
   "outputs": [],
   "source": []
  },
  {
   "cell_type": "code",
   "execution_count": 14,
   "id": "6864ed6b",
   "metadata": {},
   "outputs": [],
   "source": [
    "import os"
   ]
  },
  {
   "cell_type": "code",
   "execution_count": 16,
   "id": "e7cf6c9d",
   "metadata": {},
   "outputs": [
    {
     "name": "stdout",
     "output_type": "stream",
     "text": [
      "[]\n"
     ]
    }
   ],
   "source": [
    "# # Define relative path to folder containing the text files\n",
    "\n",
    "# files_folder = \"/home/elias/VoiceCSVData/cleandata.csv\"\n",
    "# files = []\n",
    "\n",
    "# # Create a dataframe list by using a list comprehension\n",
    "\n",
    "# files = [pd.read_csv(file, delimiter='\\t', names =['voice_path', 'text_path'] ) for file in glob.glob(os.path.join(files_folder ,\"*.txt\"))]\n",
    "\n",
    "# # # Concatenate the list of DataFrames into one\n",
    "# # files_df = pd.concat(files)\n",
    "\n",
    "\n",
    "# print(files)"
   ]
  },
  {
   "cell_type": "code",
   "execution_count": 18,
   "id": "d03553b5",
   "metadata": {},
   "outputs": [
    {
     "data": {
      "text/html": [
       "<div>\n",
       "<style scoped>\n",
       "    .dataframe tbody tr th:only-of-type {\n",
       "        vertical-align: middle;\n",
       "    }\n",
       "\n",
       "    .dataframe tbody tr th {\n",
       "        vertical-align: top;\n",
       "    }\n",
       "\n",
       "    .dataframe thead th {\n",
       "        text-align: right;\n",
       "    }\n",
       "</style>\n",
       "<table border=\"1\" class=\"dataframe\">\n",
       "  <thead>\n",
       "    <tr style=\"text-align: right;\">\n",
       "      <th></th>\n",
       "      <th>,audio_path,text</th>\n",
       "    </tr>\n",
       "  </thead>\n",
       "  <tbody>\n",
       "    <tr>\n",
       "      <th>0</th>\n",
       "      <td>0,/home/elias/dataset/UPDS/csv1/01/wav/9509204...</td>\n",
       "    </tr>\n",
       "    <tr>\n",
       "      <th>1</th>\n",
       "      <td>1,/home/elias/dataset/UPDS/csv1/01/wav/db9e906...</td>\n",
       "    </tr>\n",
       "    <tr>\n",
       "      <th>2</th>\n",
       "      <td>2,/home/elias/dataset/UPDS/csv1/01/wav/945045f...</td>\n",
       "    </tr>\n",
       "    <tr>\n",
       "      <th>3</th>\n",
       "      <td>3,/home/elias/dataset/UPDS/csv1/01/wav/d87f853...</td>\n",
       "    </tr>\n",
       "    <tr>\n",
       "      <th>4</th>\n",
       "      <td>4,/home/elias/dataset/UPDS/csv1/01/wav/83e4fc7...</td>\n",
       "    </tr>\n",
       "    <tr>\n",
       "      <th>...</th>\n",
       "      <td>...</td>\n",
       "    </tr>\n",
       "    <tr>\n",
       "      <th>211776</th>\n",
       "      <td>211776,/home/elias/dataset/UPDS/csv1/03/wav/d3...</td>\n",
       "    </tr>\n",
       "    <tr>\n",
       "      <th>211777</th>\n",
       "      <td>211777,/home/elias/dataset/UPDS/csv1/03/wav/b9...</td>\n",
       "    </tr>\n",
       "    <tr>\n",
       "      <th>211778</th>\n",
       "      <td>211778,/home/elias/dataset/UPDS/csv1/03/wav/37...</td>\n",
       "    </tr>\n",
       "    <tr>\n",
       "      <th>211779</th>\n",
       "      <td>211779,/home/elias/dataset/UPDS/csv1/03/wav/c8...</td>\n",
       "    </tr>\n",
       "    <tr>\n",
       "      <th>211780</th>\n",
       "      <td>211780,/home/elias/dataset/UPDS/csv1/03/wav/b8...</td>\n",
       "    </tr>\n",
       "  </tbody>\n",
       "</table>\n",
       "<p>211781 rows × 1 columns</p>\n",
       "</div>"
      ],
      "text/plain": [
       "                                         ,audio_path,text\n",
       "0       0,/home/elias/dataset/UPDS/csv1/01/wav/9509204...\n",
       "1       1,/home/elias/dataset/UPDS/csv1/01/wav/db9e906...\n",
       "2       2,/home/elias/dataset/UPDS/csv1/01/wav/945045f...\n",
       "3       3,/home/elias/dataset/UPDS/csv1/01/wav/d87f853...\n",
       "4       4,/home/elias/dataset/UPDS/csv1/01/wav/83e4fc7...\n",
       "...                                                   ...\n",
       "211776  211776,/home/elias/dataset/UPDS/csv1/03/wav/d3...\n",
       "211777  211777,/home/elias/dataset/UPDS/csv1/03/wav/b9...\n",
       "211778  211778,/home/elias/dataset/UPDS/csv1/03/wav/37...\n",
       "211779  211779,/home/elias/dataset/UPDS/csv1/03/wav/c8...\n",
       "211780  211780,/home/elias/dataset/UPDS/csv1/03/wav/b8...\n",
       "\n",
       "[211781 rows x 1 columns]"
      ]
     },
     "execution_count": 18,
     "metadata": {},
     "output_type": "execute_result"
    }
   ],
   "source": [
    "df1=pd.read_fwf('/home/elias/VoiceCSVData/cleandata.csv')\n",
    "\n",
    "df1"
   ]
  },
  {
   "cell_type": "code",
   "execution_count": 20,
   "id": "f48b0b62",
   "metadata": {},
   "outputs": [],
   "source": [
    "import csv"
   ]
  },
  {
   "cell_type": "code",
   "execution_count": 21,
   "id": "cf3b13e3",
   "metadata": {},
   "outputs": [
    {
     "ename": "NameError",
     "evalue": "name 'final_data' is not defined",
     "output_type": "error",
     "traceback": [
      "\u001b[0;31m---------------------------------------------------------------------------\u001b[0m",
      "\u001b[0;31mNameError\u001b[0m                                 Traceback (most recent call last)",
      "Cell \u001b[0;32mIn[21], line 1\u001b[0m\n\u001b[0;32m----> 1\u001b[0m final_data[\u001b[38;5;124m'\u001b[39m\u001b[38;5;124mtext\u001b[39m\u001b[38;5;124m'\u001b[39m]  \u001b[38;5;241m=\u001b[39m [pd\u001b[38;5;241m.\u001b[39mread_csv(text,header \u001b[38;5;241m=\u001b[39m \u001b[38;5;28;01mNone\u001b[39;00m, delimiter\u001b[38;5;241m=\u001b[39m\u001b[38;5;124m\"\u001b[39m\u001b[38;5;130;01m\\t\u001b[39;00m\u001b[38;5;124m\"\u001b[39m,quoting \u001b[38;5;241m=\u001b[39m csv\u001b[38;5;241m.\u001b[39mQUOTE_NONE,encoding\u001b[38;5;241m=\u001b[39m\u001b[38;5;124m'\u001b[39m\u001b[38;5;124mutf-8\u001b[39m\u001b[38;5;124m'\u001b[39m) \u001b[38;5;28;01mfor\u001b[39;00m text \u001b[38;5;129;01min\u001b[39;00m \u001b[43mfinal_data\u001b[49m[\u001b[38;5;124m'\u001b[39m\u001b[38;5;124mtext\u001b[39m\u001b[38;5;124m'\u001b[39m]]\n\u001b[1;32m      3\u001b[0m \u001b[38;5;66;03m#quoting=csv.QUOTE_NONE,\u001b[39;00m\n",
      "\u001b[0;31mNameError\u001b[0m: name 'final_data' is not defined"
     ]
    }
   ],
   "source": [
    "final_data['text']  = [pd.read_csv(text,header = None, delimiter=\"\\t\",quoting = csv.QUOTE_NONE,encoding='utf-8') for text in final_data['text']]\n",
    "\n",
    "#quoting=csv.QUOTE_NONE,"
   ]
  },
  {
   "cell_type": "code",
   "execution_count": null,
   "id": "0ed1898f",
   "metadata": {},
   "outputs": [],
   "source": []
  }
 ],
 "metadata": {
  "kernelspec": {
   "display_name": "Python 3 (ipykernel)",
   "language": "python",
   "name": "python3"
  },
  "language_info": {
   "codemirror_mode": {
    "name": "ipython",
    "version": 3
   },
   "file_extension": ".py",
   "mimetype": "text/x-python",
   "name": "python",
   "nbconvert_exporter": "python",
   "pygments_lexer": "ipython3",
   "version": "3.9.12"
  }
 },
 "nbformat": 4,
 "nbformat_minor": 5
}
